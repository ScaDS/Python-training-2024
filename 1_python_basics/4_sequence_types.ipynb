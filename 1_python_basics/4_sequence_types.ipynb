{
 "cells": [
  {
   "cell_type": "markdown",
   "metadata": {},
   "source": [
    "# Sequences in Python\n",
    "\n",
    "Variables can contain multiple values, those are called sequences. One example we already introduced is a string-typed variable, containing an immutable ordered collection of Unicode items.\n",
    "\n",
    "The other three basic sequence types are: \n",
    "* [Lists](https://docs.python.org/3/library/stdtypes.html#lists)\n",
    "* [Tuples](https://docs.python.org/3/library/stdtypes.html#tuples)\n",
    "* [Ranges](https://docs.python.org/3/library/stdtypes.html#ranges)"
   ]
  },
  {
   "cell_type": "markdown",
   "metadata": {},
   "source": [
    "## Understanding Lists\n",
    "\n",
    "Lists are _mutable_ sequences, typically used to store collections of homogeneous typed elements, but elements can also be of mixed types. The elements within a list can be modified after the list is created.\n",
    "\n",
    "### Initialization with Data"
   ]
  },
  {
   "cell_type": "code",
   "metadata": {
    "ExecuteTime": {
     "end_time": "2024-05-31T09:53:45.206773Z",
     "start_time": "2024-05-31T09:53:45.203610Z"
    }
   },
   "source": [
    "# Creating a list with some elements\n",
    "my_list = [1, 2, 3, 4, 5]\n",
    "print(\"Initialized list:\", my_list)"
   ],
   "outputs": [
    {
     "name": "stdout",
     "output_type": "stream",
     "text": [
      "Initialized list: [1, 2, 3, 4, 5]\n"
     ]
    }
   ],
   "execution_count": 1
  },
  {
   "cell_type": "markdown",
   "metadata": {},
   "source": [
    "### Accessing Elements\n",
    "\n",
    "Entries can be accessed by their index via the bracket operator `[]`. Indices in such sequences start at `0`:"
   ]
  },
  {
   "cell_type": "code",
   "metadata": {
    "ExecuteTime": {
     "end_time": "2024-05-31T09:53:45.214537Z",
     "start_time": "2024-05-31T09:53:45.212615Z"
    }
   },
   "source": [
    "# Accessing the first element\n",
    "first_element = my_list[0]\n",
    "print(\"First element:\", first_element)"
   ],
   "outputs": [
    {
     "name": "stdout",
     "output_type": "stream",
     "text": [
      "First element: 1\n"
     ]
    }
   ],
   "execution_count": 2
  },
  {
   "metadata": {
    "ExecuteTime": {
     "end_time": "2024-05-31T09:53:45.233614Z",
     "start_time": "2024-05-31T09:53:45.231804Z"
    }
   },
   "cell_type": "code",
   "source": [
    "# Accessing the last element using a negative index\n",
    "last_element = my_list[-1]\n",
    "print(\"Last element:\", last_element)"
   ],
   "outputs": [
    {
     "name": "stdout",
     "output_type": "stream",
     "text": [
      "Last element: 5\n"
     ]
    }
   ],
   "execution_count": 3
  },
  {
   "metadata": {},
   "cell_type": "markdown",
   "source": "Entries can be changed (lists are mutable) by assigning a new value to an index:"
  },
  {
   "metadata": {
    "ExecuteTime": {
     "end_time": "2024-05-31T09:53:45.236572Z",
     "start_time": "2024-05-31T09:53:45.234874Z"
    }
   },
   "cell_type": "code",
   "source": [
    "my_list[0] = 10\n",
    "print(\"Updated list:\", my_list)"
   ],
   "outputs": [
    {
     "name": "stdout",
     "output_type": "stream",
     "text": [
      "Updated list: [10, 2, 3, 4, 5]\n"
     ]
    }
   ],
   "execution_count": 4
  },
  {
   "cell_type": "markdown",
   "metadata": {},
   "source": [
    "### Built-in Methods\n",
    "The list object provides several methods to work with the underlying data"
   ]
  },
  {
   "cell_type": "code",
   "metadata": {
    "ExecuteTime": {
     "end_time": "2024-05-31T09:53:45.239494Z",
     "start_time": "2024-05-31T09:53:45.237597Z"
    }
   },
   "source": [
    "# Adding an element to the list\n",
    "my_list.append(6)\n",
    "print(\"List after appending 6:\", my_list)"
   ],
   "outputs": [
    {
     "name": "stdout",
     "output_type": "stream",
     "text": [
      "List after appending 6: [10, 2, 3, 4, 5, 6]\n"
     ]
    }
   ],
   "execution_count": 5
  },
  {
   "metadata": {
    "ExecuteTime": {
     "end_time": "2024-05-31T09:53:45.241574Z",
     "start_time": "2024-05-31T09:53:45.240101Z"
    }
   },
   "cell_type": "code",
   "source": [
    "# Removing an element from the list\n",
    "my_list.remove(3)\n",
    "print(\"List after removing 3:\", my_list)"
   ],
   "outputs": [
    {
     "name": "stdout",
     "output_type": "stream",
     "text": [
      "List after removing 3: [10, 2, 4, 5, 6]\n"
     ]
    }
   ],
   "execution_count": 6
  },
  {
   "metadata": {
    "ExecuteTime": {
     "end_time": "2024-05-31T09:53:45.243608Z",
     "start_time": "2024-05-31T09:53:45.242070Z"
    }
   },
   "cell_type": "code",
   "source": [
    "# Sorting the list\n",
    "my_list.sort()\n",
    "print(\"Sorted list:\", my_list)"
   ],
   "outputs": [
    {
     "name": "stdout",
     "output_type": "stream",
     "text": [
      "Sorted list: [2, 4, 5, 6, 10]\n"
     ]
    }
   ],
   "execution_count": 7
  },
  {
   "cell_type": "markdown",
   "metadata": {},
   "source": [
    "## Understanding Tuples\n",
    "\n",
    "Tuples are _immutable_ sequences, typically used to store collections of heterogeneous data. Once a tuple is created, its elements cannot be changed.\n",
    "\n",
    "### Initialization with Data"
   ]
  },
  {
   "cell_type": "code",
   "metadata": {
    "ExecuteTime": {
     "end_time": "2024-05-31T09:53:45.246793Z",
     "start_time": "2024-05-31T09:53:45.244908Z"
    }
   },
   "source": [
    "# Creating a tuple with some elements\n",
    "my_tuple = (1, 2, 3, 4, 5)\n",
    "print(\"Initialized tuple:\", my_tuple)"
   ],
   "outputs": [
    {
     "name": "stdout",
     "output_type": "stream",
     "text": [
      "Initialized tuple: (1, 2, 3, 4, 5)\n"
     ]
    }
   ],
   "execution_count": 8
  },
  {
   "cell_type": "markdown",
   "metadata": {},
   "source": [
    "### Accessing Elements\n",
    "\n",
    "Works just like for lists..."
   ]
  },
  {
   "cell_type": "code",
   "metadata": {
    "ExecuteTime": {
     "end_time": "2024-05-31T09:53:45.249170Z",
     "start_time": "2024-05-31T09:53:45.247369Z"
    }
   },
   "source": [
    "# Accessing the first element\n",
    "first_element = my_tuple[0]\n",
    "print(\"First element:\", first_element)\n",
    "\n",
    "# Accessing the last element\n",
    "last_element = my_tuple[-1]\n",
    "print(\"Last element:\", last_element)"
   ],
   "outputs": [
    {
     "name": "stdout",
     "output_type": "stream",
     "text": [
      "First element: 1\n",
      "Last element: 5\n"
     ]
    }
   ],
   "execution_count": 9
  },
  {
   "metadata": {},
   "cell_type": "markdown",
   "source": "Now try to assign a new value to the first element of the tuple:"
  },
  {
   "metadata": {
    "ExecuteTime": {
     "end_time": "2024-05-31T09:53:45.251055Z",
     "start_time": "2024-05-31T09:53:45.249759Z"
    }
   },
   "cell_type": "code",
   "source": "",
   "outputs": [],
   "execution_count": 9
  },
  {
   "cell_type": "markdown",
   "metadata": {},
   "source": [
    "## Understanding Ranges\n",
    "\n",
    "Ranges are _immutable_ collections of numbers, commonly used for counting in loops (later more). \n",
    "\n",
    "Ranges can be constructed via `range(start,end,step)`, where `start` defaults to `0`, `end` is not inclusive, and `step` is an optional parameter for a step width.\n",
    "\n",
    "### Initialization with Data"
   ]
  },
  {
   "cell_type": "code",
   "metadata": {
    "ExecuteTime": {
     "end_time": "2024-05-31T09:53:45.253091Z",
     "start_time": "2024-05-31T09:53:45.251570Z"
    }
   },
   "source": [
    "# Creating a range of numbers from 0 to 9\n",
    "my_range = range(10)\n",
    "print(\"Initialized range:\", list(my_range))"
   ],
   "outputs": [
    {
     "name": "stdout",
     "output_type": "stream",
     "text": [
      "Initialized range: [0, 1, 2, 3, 4, 5, 6, 7, 8, 9]\n"
     ]
    }
   ],
   "execution_count": 10
  },
  {
   "cell_type": "markdown",
   "metadata": {},
   "source": [
    "### Accessing Elements\n",
    "\n",
    "Works just like for lists..."
   ]
  },
  {
   "cell_type": "code",
   "metadata": {
    "ExecuteTime": {
     "end_time": "2024-05-31T09:53:45.256138Z",
     "start_time": "2024-05-31T09:53:45.254281Z"
    }
   },
   "source": [
    "# Accessing the first element\n",
    "first_element = my_range[0]\n",
    "print(\"First element:\", first_element)\n",
    "\n",
    "# Accessing the last element\n",
    "last_element = my_range[-1]\n",
    "print(\"Last element:\", last_element)"
   ],
   "outputs": [
    {
     "name": "stdout",
     "output_type": "stream",
     "text": [
      "First element: 0\n",
      "Last element: 9\n"
     ]
    }
   ],
   "execution_count": 11
  },
  {
   "cell_type": "markdown",
   "metadata": {},
   "source": [
    "## Exercises\n",
    "\n",
    "Now that you have learned about lists, tuples, and ranges, try to solve the following exercises to practice your understanding.\n",
    "\n",
    "1. Create a list of your favorite fruits. Try to combine it with the numerical list from the top, remember how you did combine strings. Print the result.\n",
    "2. Create a tuple with every second number from 0 to 200 and print the last element."
   ]
  },
  {
   "metadata": {
    "ExecuteTime": {
     "end_time": "2024-05-31T09:53:45.257755Z",
     "start_time": "2024-05-31T09:53:45.256633Z"
    }
   },
   "cell_type": "code",
   "source": "",
   "outputs": [],
   "execution_count": 11
  }
 ],
 "metadata": {
  "kernelspec": {
   "display_name": "Python 3",
   "language": "python",
   "name": "python3"
  },
  "language_info": {
   "codemirror_mode": {
    "name": "ipython",
    "version": 3
   },
   "file_extension": ".py",
   "mimetype": "text/x-python",
   "name": "python",
   "nbconvert_exporter": "python",
   "pygments_lexer": "ipython3",
   "version": "3.8.10"
  }
 },
 "nbformat": 4,
 "nbformat_minor": 2
}
