{
 "cells": [
  {
   "cell_type": "markdown",
   "metadata": {},
   "source": [
    "# Conditions and loops in Python\n",
    "\n",
    "## Conditions\n",
    "\n",
    "The `if` statement (a control flow tool), followed by an expression, can be used to execute code conditionally. That means only if that expression is `True`. For such expressions, logical operators from mathematics can be used.\n",
    "\n",
    "See also:\n",
    "* [if…elif…else in Python](https://www.w3schools.com/python/python_conditions.asp)\n",
    "* [Control Flow Tools](https://docs.python.org/3/tutorial/controlflow.html)\n",
    "\n",
    "Let's take a look at such expressions first:"
   ]
  },
  {
   "metadata": {
    "ExecuteTime": {
     "end_time": "2024-05-31T09:56:06.564349Z",
     "start_time": "2024-05-31T09:56:06.561653Z"
    }
   },
   "cell_type": "code",
   "source": [
    "a = 3\n",
    "b = 4"
   ],
   "outputs": [],
   "execution_count": 1
  },
  {
   "metadata": {
    "ExecuteTime": {
     "end_time": "2024-05-31T09:56:06.568560Z",
     "start_time": "2024-05-31T09:56:06.565448Z"
    }
   },
   "cell_type": "code",
   "source": [
    "# equal\n",
    "a == b"
   ],
   "outputs": [
    {
     "data": {
      "text/plain": [
       "False"
      ]
     },
     "execution_count": 2,
     "metadata": {},
     "output_type": "execute_result"
    }
   ],
   "execution_count": 2
  },
  {
   "metadata": {
    "ExecuteTime": {
     "end_time": "2024-05-31T09:56:06.571242Z",
     "start_time": "2024-05-31T09:56:06.569107Z"
    }
   },
   "cell_type": "code",
   "source": [
    "# not equal\n",
    "a != b"
   ],
   "outputs": [
    {
     "data": {
      "text/plain": [
       "True"
      ]
     },
     "execution_count": 3,
     "metadata": {},
     "output_type": "execute_result"
    }
   ],
   "execution_count": 3
  },
  {
   "metadata": {
    "ExecuteTime": {
     "end_time": "2024-05-31T09:56:06.573811Z",
     "start_time": "2024-05-31T09:56:06.571859Z"
    }
   },
   "cell_type": "code",
   "source": [
    "# greater\n",
    "a > b"
   ],
   "outputs": [
    {
     "data": {
      "text/plain": [
       "False"
      ]
     },
     "execution_count": 4,
     "metadata": {},
     "output_type": "execute_result"
    }
   ],
   "execution_count": 4
  },
  {
   "metadata": {
    "ExecuteTime": {
     "end_time": "2024-05-31T09:56:06.577407Z",
     "start_time": "2024-05-31T09:56:06.575231Z"
    }
   },
   "cell_type": "code",
   "source": [
    "# less\n",
    "a < b"
   ],
   "outputs": [
    {
     "data": {
      "text/plain": [
       "True"
      ]
     },
     "execution_count": 5,
     "metadata": {},
     "output_type": "execute_result"
    }
   ],
   "execution_count": 5
  },
  {
   "metadata": {
    "ExecuteTime": {
     "end_time": "2024-05-31T09:56:06.579825Z",
     "start_time": "2024-05-31T09:56:06.577898Z"
    }
   },
   "cell_type": "code",
   "source": [
    "# greater equal\n",
    "a >= b"
   ],
   "outputs": [
    {
     "data": {
      "text/plain": [
       "False"
      ]
     },
     "execution_count": 6,
     "metadata": {},
     "output_type": "execute_result"
    }
   ],
   "execution_count": 6
  },
  {
   "metadata": {
    "ExecuteTime": {
     "end_time": "2024-05-31T09:56:06.581933Z",
     "start_time": "2024-05-31T09:56:06.580375Z"
    }
   },
   "cell_type": "code",
   "source": [
    "# less equal\n",
    "a <= b"
   ],
   "outputs": [
    {
     "data": {
      "text/plain": [
       "True"
      ]
     },
     "execution_count": 7,
     "metadata": {},
     "output_type": "execute_result"
    }
   ],
   "execution_count": 7
  },
  {
   "cell_type": "markdown",
   "metadata": {},
   "source": [
    "### Conditions with if, else, elif\n",
    "\n",
    "The `if` statement is used to test a condition, defined by an expression: if the condition evaluates to `True`, the code block within the `if` statement is executed; otherwise, the code block is skipped.\n",
    "\n",
    "The `else` statement can be used to execute a block of code if the condition in the `if` statement is `False`.\n",
    "\n",
    "The `elif` (short for 'else if') statement can be used to check multiple conditions in sequence, where each condition is checked only if the previous ones were `False`."
   ]
  },
  {
   "cell_type": "code",
   "metadata": {
    "ExecuteTime": {
     "end_time": "2024-05-31T09:56:06.584195Z",
     "start_time": "2024-05-31T09:56:06.582383Z"
    }
   },
   "source": [
    "# Example of if, else, and elif conditions\n",
    "\n",
    "x = 15\n",
    "\n",
    "if x < 10:\n",
    "    print('x is less than 10')\n",
    "elif x == 10:\n",
    "    print('x is equal to 10')\n",
    "else:\n",
    "    print('x is greater than 10')"
   ],
   "outputs": [
    {
     "name": "stdout",
     "output_type": "stream",
     "text": [
      "x is greater than 10\n"
     ]
    }
   ],
   "execution_count": 8
  },
  {
   "cell_type": "markdown",
   "metadata": {},
   "source": [
    "### Exercise:\n",
    "\n",
    "Write a program that checks if a number is positive, negative, or zero."
   ]
  },
  {
   "metadata": {
    "ExecuteTime": {
     "end_time": "2024-05-31T09:56:06.585808Z",
     "start_time": "2024-05-31T09:56:06.584681Z"
    }
   },
   "cell_type": "code",
   "source": "",
   "outputs": [],
   "execution_count": 8
  },
  {
   "cell_type": "markdown",
   "metadata": {},
   "source": [
    "## Loops: for and while\n",
    "\n",
    "Loops (also a control flow tool) are used to execute a block of code repeatedly. In notebooks, we just may execute a code cell the desired number of times. But it's better to use loops, and in Python, there are two main types:\n",
    "\n",
    "1. **For Loop:** This loop is used to iterate over a sequence (like a list, tuple, dictionary, set, or string).\n",
    "2. **While Loop:** This loop repeats a block of code as long as a specified condition is true.\n",
    "\n",
    "See also:\n",
    "* [Control Flow Tools](https://docs.python.org/3/tutorial/controlflow.html)\n",
    "* [Python For Loops](https://www.w3schools.com/python/python_for_loops.asp)\n",
    "* [Python While Loops](https://www.w3schools.com/python/python_while_loops.asp)"
   ]
  },
  {
   "metadata": {},
   "cell_type": "markdown",
   "source": [
    "### The for loop\n",
    "\n",
    "For looping over elements of a sequence, we can use `for` on the sequence and need to define the currently examined element."
   ]
  },
  {
   "cell_type": "code",
   "metadata": {
    "ExecuteTime": {
     "end_time": "2024-05-31T09:56:06.587800Z",
     "start_time": "2024-05-31T09:56:06.586376Z"
    }
   },
   "source": [
    "# Example of a for loop\n",
    "fruits = ['apple', 'banana', 'cherry']\n",
    "\n",
    "for fruit in fruits:\n",
    "    print(fruit)"
   ],
   "outputs": [
    {
     "name": "stdout",
     "output_type": "stream",
     "text": [
      "apple\n",
      "banana\n",
      "cherry\n"
     ]
    }
   ],
   "execution_count": 9
  },
  {
   "cell_type": "markdown",
   "metadata": {},
   "source": [
    "#### Exercise:\n",
    "\n",
    "We can also use the `range()` method, to iterate over numbers. Define a for loop to print every second number from 0 to 10:"
   ]
  },
  {
   "cell_type": "code",
   "metadata": {
    "ExecuteTime": {
     "end_time": "2024-05-31T09:56:06.590340Z",
     "start_time": "2024-05-31T09:56:06.589102Z"
    }
   },
   "source": "",
   "outputs": [],
   "execution_count": 9
  },
  {
   "metadata": {},
   "cell_type": "markdown",
   "source": "If we want to know the index of an element in the list as well, the built-in [`enumerate`](https://docs.python.org/3/library/functions.html#enumerate) function comes in handy:"
  },
  {
   "metadata": {
    "ExecuteTime": {
     "end_time": "2024-05-31T09:56:06.592371Z",
     "start_time": "2024-05-31T09:56:06.590847Z"
    }
   },
   "cell_type": "code",
   "source": [
    "# numbering and iterating through collections\n",
    "for index, animal in enumerate([\"Dog\", \"Cat\", \"Mouse\"]):\n",
    "    print(f\"The animal number {index} in the list is {animal}\")\n"
   ],
   "outputs": [
    {
     "name": "stdout",
     "output_type": "stream",
     "text": [
      "The animal number 0 in the list is Dog\n",
      "The animal number 1 in the list is Cat\n",
      "The animal number 2 in the list is Mouse\n"
     ]
    }
   ],
   "execution_count": 10
  },
  {
   "metadata": {},
   "cell_type": "markdown",
   "source": "Using the built-in [`zip`](https://docs.python.org/3/library/functions.html#zip) function, we can iterate over two lists in parallel, with pair-wise elements like this:"
  },
  {
   "metadata": {
    "ExecuteTime": {
     "end_time": "2024-05-31T09:56:06.595048Z",
     "start_time": "2024-05-31T09:56:06.593289Z"
    }
   },
   "cell_type": "code",
   "source": [
    "# going through arrays pair-wise\n",
    "measurement_1 = [1, 9, 7, 1, 2]\n",
    "measurement_2 = [4, 5, 5, 7, 4]\n",
    "\n",
    "for m_1, m_2 in zip(measurement_1, measurement_2):\n",
    "    print(f\"Paired measurements: {m_1} and {m_2}\")"
   ],
   "outputs": [
    {
     "name": "stdout",
     "output_type": "stream",
     "text": [
      "Paired measurements: 1 and 4\n",
      "Paired measurements: 9 and 5\n",
      "Paired measurements: 7 and 5\n",
      "Paired measurements: 1 and 7\n",
      "Paired measurements: 2 and 4\n"
     ]
    }
   ],
   "execution_count": 11
  },
  {
   "metadata": {
    "ExecuteTime": {
     "end_time": "2024-05-31T09:56:06.624643Z",
     "start_time": "2024-05-31T09:56:06.623316Z"
    }
   },
   "cell_type": "code",
   "source": "",
   "outputs": [],
   "execution_count": 11
  },
  {
   "metadata": {},
   "cell_type": "markdown",
   "source": [
    "#### Use for loops to generate lists\n",
    "\n",
    "We can generate lists using for loops. The conventional way of doing this involves multiple lines of code:"
   ]
  },
  {
   "metadata": {
    "ExecuteTime": {
     "end_time": "2024-05-31T09:56:06.647936Z",
     "start_time": "2024-05-31T09:56:06.646046Z"
    }
   },
   "cell_type": "code",
   "source": [
    "# we start with an empty list\n",
    "numbers = []\n",
    "\n",
    "# ...and append elements\n",
    "for i in range(0, 5):\n",
    "    numbers.append(i * 2)\n",
    "    \n",
    "print(numbers)"
   ],
   "outputs": [
    {
     "name": "stdout",
     "output_type": "stream",
     "text": [
      "[0, 2, 4, 6, 8]\n"
     ]
    }
   ],
   "execution_count": 12
  },
  {
   "metadata": {},
   "cell_type": "markdown",
   "source": [
    "We can also write that shorter. The underlying concept is called [`generators`](https://docs.python.org/3/tutorial/classes.html#generators).\n",
    "\n",
    "This is also part of what the community calls \"_The Pythonic Way_\"—making use of available classes and concepts to write short, clean, and understandable code."
   ]
  },
  {
   "metadata": {
    "ExecuteTime": {
     "end_time": "2024-05-31T09:56:06.690722Z",
     "start_time": "2024-05-31T09:56:06.688835Z"
    }
   },
   "cell_type": "code",
   "source": [
    "numbers = [i * 2 for i in range(0, 5)]\n",
    "\n",
    "print(numbers)"
   ],
   "outputs": [
    {
     "name": "stdout",
     "output_type": "stream",
     "text": [
      "[0, 2, 4, 6, 8]\n"
     ]
    }
   ],
   "execution_count": 13
  },
  {
   "cell_type": "markdown",
   "metadata": {},
   "source": [
    "### The while loop\n",
    "\n",
    "The `while` loop keeps executing as long as the given condition is `True`. It checks a condition before each iteration, similar to the if statement. It will interrupt the execution as soon as the condition is no longer true. Make sure to update the condition inside the loop accordingly, or it might result in an infinite loop."
   ]
  },
  {
   "cell_type": "code",
   "metadata": {
    "ExecuteTime": {
     "end_time": "2024-05-31T09:56:06.694309Z",
     "start_time": "2024-05-31T09:56:06.692560Z"
    }
   },
   "source": [
    "# Example of a while loop\n",
    "count = 0\n",
    "\n",
    "while count < 5:\n",
    "    print('Count:', count)\n",
    "    count += 1"
   ],
   "outputs": [
    {
     "name": "stdout",
     "output_type": "stream",
     "text": [
      "Count: 0\n",
      "Count: 1\n",
      "Count: 2\n",
      "Count: 3\n",
      "Count: 4\n"
     ]
    }
   ],
   "execution_count": 14
  },
  {
   "cell_type": "markdown",
   "metadata": {},
   "source": [
    "#### Exercise\n",
    "\n",
    "Write a while loop that halves and prints a given number as long as this number is greater than 1."
   ]
  },
  {
   "cell_type": "code",
   "metadata": {
    "ExecuteTime": {
     "end_time": "2024-05-31T09:56:06.703819Z",
     "start_time": "2024-05-31T09:56:06.702622Z"
    }
   },
   "source": "",
   "outputs": [],
   "execution_count": 14
  },
  {
   "metadata": {},
   "cell_type": "markdown",
   "source": [
    "## Interrupting loops\n",
    "\n",
    "You can interrupt loops at specific points in your code using the [break](https://docs.python.org/3/tutorial/controlflow.html#break-and-continue-statements-and-else-clauses-on-loops) command:"
   ]
  },
  {
   "metadata": {
    "ExecuteTime": {
     "end_time": "2024-05-31T09:56:06.713984Z",
     "start_time": "2024-05-31T09:56:06.712315Z"
    }
   },
   "cell_type": "code",
   "source": [
    "for i in range(10):\n",
    "    print(i)\n",
    "    if i > 3:\n",
    "        break"
   ],
   "outputs": [
    {
     "name": "stdout",
     "output_type": "stream",
     "text": [
      "0\n",
      "1\n",
      "2\n",
      "3\n",
      "4\n"
     ]
    }
   ],
   "execution_count": 15
  },
  {
   "metadata": {},
   "cell_type": "markdown",
   "source": [
    "## Skipping iterations in loops\n",
    "\n",
    "If you want to skip iterations, you can use the [continue](https://docs.python.org/3/tutorial/controlflow.html#break-and-continue-statements-and-else-clauses-on-loops) statement. That often makes sense in combination with an if:"
   ]
  },
  {
   "metadata": {
    "ExecuteTime": {
     "end_time": "2024-05-31T09:56:06.722286Z",
     "start_time": "2024-05-31T09:56:06.720677Z"
    }
   },
   "cell_type": "code",
   "source": [
    "for i in range(0, 10):\n",
    "    if (i >= 2) and (i <= 7):\n",
    "        continue\n",
    "    print(i)"
   ],
   "outputs": [
    {
     "name": "stdout",
     "output_type": "stream",
     "text": [
      "0\n",
      "1\n",
      "8\n",
      "9\n"
     ]
    }
   ],
   "execution_count": 16
  },
  {
   "metadata": {},
   "cell_type": "markdown",
   "source": [
    "## Exercise\n",
    "\n",
    "Assume you have a list of filenames, and you want to do something with them, for example, print them out. Program a for loop which prints out all file names that end with \"tif\". You may want to use a [built-in method for strings](https://docs.python.org/3/library/stdtypes.html#string-methods)."
   ]
  },
  {
   "metadata": {
    "ExecuteTime": {
     "end_time": "2024-05-31T09:56:06.738331Z",
     "start_time": "2024-05-31T09:56:06.736734Z"
    }
   },
   "cell_type": "code",
   "source": "file_names = ['dataset1.tif', 'dataset2.tif', 'summary.csv', 'readme.md', 'blobs.tif']",
   "outputs": [],
   "execution_count": 17
  },
  {
   "metadata": {
    "ExecuteTime": {
     "end_time": "2024-05-31T09:56:06.747683Z",
     "start_time": "2024-05-31T09:56:06.746418Z"
    }
   },
   "cell_type": "code",
   "source": "",
   "outputs": [],
   "execution_count": 17
  }
 ],
 "metadata": {
  "kernelspec": {
   "display_name": "Python 3",
   "language": "python",
   "name": "python3"
  },
  "language_info": {
   "codemirror_mode": {
    "name": "ipython",
    "version": 3
   },
   "file_extension": ".py",
   "mimetype": "text/x-python",
   "name": "python",
   "nbconvert_exporter": "python",
   "pygments_lexer": "ipython3",
   "version": "3.8.5"
  }
 },
 "nbformat": 4,
 "nbformat_minor": 4
}
