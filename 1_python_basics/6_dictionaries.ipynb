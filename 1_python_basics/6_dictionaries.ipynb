{
 "cells": [
  {
   "cell_type": "markdown",
   "metadata": {},
   "source": [
    "# Dictionaries in Python\n",
    "\n",
    "A **dictionary** is a collection of key-value pairs, i.e. `key:value`. Each key is unique and is used to access its corresponding value. Dictionaries are defined using curly braces `{}`.\n",
    "\n",
    "See also\n",
    "* [Python docs for dict](https://docs.python.org/3/library/stdtypes.html#mapping-types-dict)\n",
    "* [Dictionaries in Python](https://www.w3schools.com/python/python_dictionaries.asp)\n",
    "* [Dictionary keys as list](https://stackoverflow.com/questions/16819222/how-do-i-return-dictionary-keys-as-a-list-in-python)\n",
    "\n",
    "Here is a basic example of a dictionary:"
   ],
   "id": "5213d442a4b79d48"
  },
  {
   "cell_type": "code",
   "metadata": {
    "ExecuteTime": {
     "end_time": "2024-05-31T09:55:17.092079Z",
     "start_time": "2024-05-31T09:55:17.089148Z"
    }
   },
   "source": [
    "# Example of a dictionary\n",
    "my_dict = {\n",
    "    'name': 'Alice',\n",
    "    'age': 25,\n",
    "    'city': 'New York'\n",
    "}\n",
    "print(my_dict)"
   ],
   "id": "3e822050e0ed8c8",
   "outputs": [
    {
     "name": "stdout",
     "output_type": "stream",
     "text": [
      "{'name': 'Alice', 'age': 25, 'city': 'New York'}\n"
     ]
    }
   ],
   "execution_count": 1
  },
  {
   "cell_type": "markdown",
   "metadata": {},
   "source": [
    "### Accessing Elements\n",
    "\n",
    "You can access elements in a dictionary by using their keys. If the key does not exist, Python will raise a `KeyError`."
   ],
   "id": "76e4241834ba3ece"
  },
  {
   "cell_type": "code",
   "metadata": {
    "ExecuteTime": {
     "end_time": "2024-05-31T09:55:17.094578Z",
     "start_time": "2024-05-31T09:55:17.092997Z"
    }
   },
   "source": [
    "# Accessing elements in a dictionary\n",
    "print(my_dict['name'])\n",
    "print(my_dict['age'])"
   ],
   "id": "cb509475869782d4",
   "outputs": [
    {
     "name": "stdout",
     "output_type": "stream",
     "text": [
      "Alice\n",
      "25\n"
     ]
    }
   ],
   "execution_count": 2
  },
  {
   "metadata": {
    "ExecuteTime": {
     "end_time": "2024-05-31T09:55:17.194814Z",
     "start_time": "2024-05-31T09:55:17.102004Z"
    }
   },
   "cell_type": "code",
   "source": [
    "# Accessing non-existing keys\n",
    "print(my_dict['unknown'])"
   ],
   "id": "a9c78d4bddf6e8e8",
   "outputs": [
    {
     "ename": "KeyError",
     "evalue": "'unknown'",
     "output_type": "error",
     "traceback": [
      "\u001B[0;31m---------------------------------------------------------------------------\u001B[0m",
      "\u001B[0;31mKeyError\u001B[0m                                  Traceback (most recent call last)",
      "Cell \u001B[0;32mIn[3], line 2\u001B[0m\n\u001B[1;32m      1\u001B[0m \u001B[38;5;66;03m# Accessing non-existing keys\u001B[39;00m\n\u001B[0;32m----> 2\u001B[0m \u001B[38;5;28mprint\u001B[39m(\u001B[43mmy_dict\u001B[49m\u001B[43m[\u001B[49m\u001B[38;5;124;43m'\u001B[39;49m\u001B[38;5;124;43munknown\u001B[39;49m\u001B[38;5;124;43m'\u001B[39;49m\u001B[43m]\u001B[49m)\n",
      "\u001B[0;31mKeyError\u001B[0m: 'unknown'"
     ]
    }
   ],
   "execution_count": 3
  },
  {
   "cell_type": "markdown",
   "metadata": {},
   "source": [
    "### Altering Elements\n",
    "\n",
    "You can alter elements in a dictionary by assigning a new value to an existing key, or add new key-value pairs by assigning a value to a new key."
   ],
   "id": "5f0ffd288015e7c6"
  },
  {
   "cell_type": "code",
   "metadata": {
    "ExecuteTime": {
     "end_time": "2024-05-31T09:55:42.334459Z",
     "start_time": "2024-05-31T09:55:42.331285Z"
    }
   },
   "source": [
    "# Altering elements in a dictionary\n",
    "my_dict['age'] = 31\n",
    "my_dict['city'] = 'Boston'\n",
    "print(my_dict)"
   ],
   "id": "475bc5bff1913927",
   "outputs": [
    {
     "name": "stdout",
     "output_type": "stream",
     "text": [
      "{'name': 'Alice', 'age': 31, 'city': 'Boston'}\n"
     ]
    }
   ],
   "execution_count": 4
  },
  {
   "cell_type": "markdown",
   "metadata": {},
   "source": [
    "### Important Built-in Methods\n",
    "\n",
    "Here are some important built-in methods for dictionaries:\n",
    "\n",
    "* `keys()`: Returns a view object with all the keys in the dictionary.\n",
    "* `values()`: Returns a view object with all the values in the dictionary.\n",
    "* `items()`: Returns a view object with all the key-value pairs in the dictionary.\n",
    "* `get(key)`: Returns the value for the specified key if it exists, else returns `None`."
   ],
   "id": "9ad7afc427b0b47c"
  },
  {
   "cell_type": "code",
   "metadata": {
    "ExecuteTime": {
     "end_time": "2024-05-31T09:55:43.726192Z",
     "start_time": "2024-05-31T09:55:43.721701Z"
    }
   },
   "source": [
    "# Using built-in methods\n",
    "keys = my_dict.keys()\n",
    "values = my_dict.values()\n",
    "items = my_dict.items()\n",
    "age = my_dict.get('age')\n",
    "\n",
    "print('Keys:', keys)\n",
    "print('Values:', values)\n",
    "print('Items:', items)\n",
    "print('Age:', age)"
   ],
   "id": "cdd47c46b766155e",
   "outputs": [
    {
     "name": "stdout",
     "output_type": "stream",
     "text": [
      "Keys: dict_keys(['name', 'age', 'city'])\n",
      "Values: dict_values(['Alice', 31, 'Boston'])\n",
      "Items: dict_items([('name', 'Alice'), ('age', 31), ('city', 'Boston')])\n",
      "Age: 31\n"
     ]
    }
   ],
   "execution_count": 5
  },
  {
   "cell_type": "markdown",
   "metadata": {},
   "source": [
    "## Using Dictionaries as Tables\n",
    "\n",
    "Dictionaries can also be used to store tabular data. For example, we can have a dictionary where the keys are column names and the values are lists of column data."
   ],
   "id": "1cd6a720821b7279"
  },
  {
   "cell_type": "code",
   "metadata": {
    "ExecuteTime": {
     "end_time": "2024-05-31T09:55:44.863516Z",
     "start_time": "2024-05-31T09:55:44.860321Z"
    }
   },
   "source": [
    "# Example of using dictionaries as tables\n",
    "my_table = {\n",
    "    'Name': ['Alice', 'Bob', 'Charlie'],\n",
    "    'Age': [25, 30, 35],\n",
    "    'City': ['New York', 'Los Angeles', 'Chicago']\n",
    "}\n",
    "print(my_table)"
   ],
   "id": "7260b00783e11213",
   "outputs": [
    {
     "name": "stdout",
     "output_type": "stream",
     "text": [
      "{'Name': ['Alice', 'Bob', 'Charlie'], 'Age': [25, 30, 35], 'City': ['New York', 'Los Angeles', 'Chicago']}\n"
     ]
    }
   ],
   "execution_count": 6
  },
  {
   "metadata": {},
   "cell_type": "markdown",
   "source": [
    "## Dictionaries with variables\n",
    "\n",
    "It is also possible to store variables in a dictionary, which are evaluated when you access them"
   ],
   "id": "f432d125b7e75546"
  },
  {
   "metadata": {
    "ExecuteTime": {
     "end_time": "2024-05-31T09:55:45.933707Z",
     "start_time": "2024-05-31T09:55:45.930743Z"
    }
   },
   "cell_type": "code",
   "source": [
    "w1 = 5\n",
    "h1 = 3\n",
    "area1 = w1 * h1\n",
    "\n",
    "w2 = 2\n",
    "h2 = 4\n",
    "area2 = w2 * h2\n",
    "\n",
    "rectangles = {\n",
    "    \"width\": [w1, w2],\n",
    "    \"height\": [h1, h2],\n",
    "    \"area\": [area1, area2]\n",
    "}\n",
    "\n",
    "print(rectangles)"
   ],
   "id": "dae2654ef9d2d383",
   "outputs": [
    {
     "name": "stdout",
     "output_type": "stream",
     "text": [
      "{'width': [5, 2], 'height': [3, 4], 'area': [15, 8]}\n"
     ]
    }
   ],
   "execution_count": 7
  },
  {
   "cell_type": "markdown",
   "metadata": {},
   "source": [
    "## Exercise\n",
    "\n",
    "You just measured the radius of three circles. Write them into a table and add a column with corresponding circle area measurements."
   ],
   "id": "c70adabda53ef353"
  },
  {
   "metadata": {
    "ExecuteTime": {
     "end_time": "2024-05-31T09:55:47.371656Z",
     "start_time": "2024-05-31T09:55:47.368476Z"
    }
   },
   "cell_type": "code",
   "source": [
    "r1 = 12\n",
    "r2 = 8\n",
    "r3 = 15"
   ],
   "id": "d9ae3cec5255bb98",
   "outputs": [],
   "execution_count": 8
  },
  {
   "metadata": {
    "ExecuteTime": {
     "end_time": "2024-05-31T09:56:15.351604Z",
     "start_time": "2024-05-31T09:56:15.349349Z"
    }
   },
   "cell_type": "code",
   "source": "",
   "id": "8150a28dd21f62ed",
   "outputs": [],
   "execution_count": 8
  }
 ],
 "metadata": {
  "kernelspec": {
   "display_name": "Python 3",
   "language": "python",
   "name": "python3"
  },
  "language_info": {
   "codemirror_mode": {
    "name": "ipython",
    "version": 3
   },
   "file_extension": ".py",
   "mimetype": "text/x-python",
   "name": "python",
   "nbconvert_exporter": "python",
   "pygments_lexer": "ipython3",
   "version": "3.9.7"
  }
 },
 "nbformat": 4,
 "nbformat_minor": 5
}
