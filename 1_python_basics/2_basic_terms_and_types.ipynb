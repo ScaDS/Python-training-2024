{
 "cells": [
  {
   "cell_type": "markdown",
   "metadata": {},
   "source": [
    "# Basics terms and types for Python\n",
    "\n",
    "For clarification and later use, let's first define some terms and explain the basic data types for the Python programming language.\n",
    "\n",
    "## Terms\n",
    "\n",
    "* **Variables** are containers for storing data in memory. They have a _name_ we can refer to and a _value_ which is assigned via `=`, e.g. `x = 5`.\n",
    "* **Objects** are complex structures, which bundle data and methods to operate on the data. In Python, everything is an object. Objects can be assigned to a variable.\n",
    "* **Methods** are blocks of code tied to an object (\"**m**ethod is **m**ine\") and used to perform operations on the objects' data. They are used via dot-annotation, e.g., `object.method()`.\n",
    "* **Functions** are blocks of reusable code to perform specific tasks and which are independent (\"**f**unction is **f**ree\").\n",
    "* **Modules** are files containing Python code (with, e.g., objects, functions) providing additional functionalities. They can be imported into other Python code.\n",
    "\n",
    "See also\n",
    "* [Built-in types in Python](https://docs.python.org/3/library/stdtypes.html)\n",
    "* [Basic types in Python](https://realpython.com/python-data-types/)\n",
    "* [Built-in functions in Python](https://docs.python.org/3/library/functions.html#built-in-functions)"
   ]
  },
  {
   "cell_type": "markdown",
   "metadata": {},
   "source": [
    "## Basic data types in Python\n",
    "Variables (which are objects) in Python can hold different types of data - such as boolean values, numbers, text or more complex things.\n",
    "\n",
    "To check the type and content of such a variable, we can use the functions `type()` and `print()`."
   ]
  },
  {
   "cell_type": "markdown",
   "metadata": {},
   "source": [
    "### Booleans\n",
    "\n",
    "Booleans represent one of two values: True or False."
   ]
  },
  {
   "cell_type": "code",
   "metadata": {
    "ExecuteTime": {
     "end_time": "2024-05-31T09:52:47.827600Z",
     "start_time": "2024-05-31T09:52:47.824943Z"
    }
   },
   "source": [
    "# Assign boolean variables\n",
    "is_true = True\n",
    "is_false = False"
   ],
   "outputs": [],
   "execution_count": 1
  },
  {
   "metadata": {
    "ExecuteTime": {
     "end_time": "2024-05-31T09:52:47.859524Z",
     "start_time": "2024-05-31T09:52:47.857407Z"
    }
   },
   "cell_type": "code",
   "source": [
    "# Check the data type\n",
    "print(type(is_true))\n",
    "# Print the boolean value\n",
    "print('is_true:', is_true)\n",
    "print('is_false:', is_false)"
   ],
   "outputs": [
    {
     "name": "stdout",
     "output_type": "stream",
     "text": [
      "<class 'bool'>\n",
      "is_true: True\n",
      "is_false: False\n"
     ]
    }
   ],
   "execution_count": 2
  },
  {
   "metadata": {},
   "cell_type": "markdown",
   "source": "We can operate on boolean values with so-called logical operators: `and`, `or`, `not`"
  },
  {
   "metadata": {
    "ExecuteTime": {
     "end_time": "2024-05-31T09:52:47.862167Z",
     "start_time": "2024-05-31T09:52:47.860676Z"
    }
   },
   "cell_type": "code",
   "source": "print(is_true and is_false)",
   "outputs": [
    {
     "name": "stdout",
     "output_type": "stream",
     "text": [
      "False\n"
     ]
    }
   ],
   "execution_count": 3
  },
  {
   "metadata": {},
   "cell_type": "markdown",
   "source": "Check what happens when using different combinations of the logical operators and the boolean values:"
  },
  {
   "metadata": {
    "ExecuteTime": {
     "end_time": "2024-05-31T09:52:47.864333Z",
     "start_time": "2024-05-31T09:52:47.863026Z"
    }
   },
   "cell_type": "code",
   "source": "",
   "outputs": [],
   "execution_count": 3
  },
  {
   "cell_type": "markdown",
   "metadata": {},
   "source": [
    "### Numbers\n",
    "Numbers in Python can be integers or floating-point numbers."
   ]
  },
  {
   "cell_type": "code",
   "metadata": {
    "ExecuteTime": {
     "end_time": "2024-05-31T09:52:47.872244Z",
     "start_time": "2024-05-31T09:52:47.870909Z"
    }
   },
   "source": [
    "# Assign numerical variables\n",
    "integer_num = 10\n",
    "float_num = 10.5"
   ],
   "outputs": [],
   "execution_count": 4
  },
  {
   "metadata": {
    "ExecuteTime": {
     "end_time": "2024-05-31T09:52:47.875077Z",
     "start_time": "2024-05-31T09:52:47.873518Z"
    }
   },
   "cell_type": "code",
   "source": [
    "print(type(integer_num))\n",
    "print('integer_num:', integer_num)\n",
    "print(type(float_num))\n",
    "print('float_num:', float_num)"
   ],
   "outputs": [
    {
     "name": "stdout",
     "output_type": "stream",
     "text": [
      "<class 'int'>\n",
      "integer_num: 10\n",
      "<class 'float'>\n",
      "float_num: 10.5\n"
     ]
    }
   ],
   "execution_count": 5
  },
  {
   "metadata": {},
   "cell_type": "markdown",
   "source": [
    "We can do math with numerical variables by combining them with mathematical operators.\n",
    "Also see the [available operators in Python](https://docs.python.org/3/library/operator.html#mapping-operators-to-functions)."
   ]
  },
  {
   "metadata": {
    "ExecuteTime": {
     "end_time": "2024-05-31T09:52:47.891595Z",
     "start_time": "2024-05-31T09:52:47.890222Z"
    }
   },
   "cell_type": "code",
   "source": [
    "a = 5\n",
    "b = 3"
   ],
   "outputs": [],
   "execution_count": 6
  },
  {
   "metadata": {
    "ExecuteTime": {
     "end_time": "2024-05-31T09:52:47.906102Z",
     "start_time": "2024-05-31T09:52:47.904557Z"
    }
   },
   "cell_type": "code",
   "source": [
    "c = a + b # add\n",
    "print(c)"
   ],
   "outputs": [
    {
     "name": "stdout",
     "output_type": "stream",
     "text": [
      "8\n"
     ]
    }
   ],
   "execution_count": 7
  },
  {
   "cell_type": "markdown",
   "metadata": {},
   "source": [
    "### Text (Strings)\n",
    "\n",
    "Variables can also hold text. Such a text is internally stored as a so-called sequence. We call them a \"string\" in this case, and define them by surrounding the value with either single quotes ' ' or double quotes \" \". If you want to include quotes in a string you can embedd them accordingly."
   ]
  },
  {
   "cell_type": "code",
   "metadata": {
    "ExecuteTime": {
     "end_time": "2024-05-31T09:52:47.908538Z",
     "start_time": "2024-05-31T09:52:47.906968Z"
    }
   },
   "source": [
    "# String examples\n",
    "single_quoted_str = 'Hello World'\n",
    "double_quoted_str = \"Python Programming\"\n",
    "embedded_quotes_str = '\"Hello\", she said.'"
   ],
   "outputs": [],
   "execution_count": 8
  },
  {
   "metadata": {
    "ExecuteTime": {
     "end_time": "2024-05-31T09:52:47.910801Z",
     "start_time": "2024-05-31T09:52:47.909191Z"
    }
   },
   "cell_type": "code",
   "source": [
    "print('single_quoted_str:', single_quoted_str)\n",
    "print('double_quoted_str:', double_quoted_str)\n",
    "print('embedded_quotes_str:', embedded_quotes_str)"
   ],
   "outputs": [
    {
     "name": "stdout",
     "output_type": "stream",
     "text": [
      "single_quoted_str: Hello World\n",
      "double_quoted_str: Python Programming\n",
      "embedded_quotes_str: \"Hello\", she said.\n"
     ]
    }
   ],
   "execution_count": 9
  },
  {
   "metadata": {},
   "cell_type": "markdown",
   "source": "Strings can be combined using the `+` operator:"
  },
  {
   "metadata": {
    "ExecuteTime": {
     "end_time": "2024-05-31T09:52:47.919490Z",
     "start_time": "2024-05-31T09:52:47.916689Z"
    }
   },
   "cell_type": "code",
   "source": "single_quoted_str + \" with \" + double_quoted_str",
   "outputs": [
    {
     "data": {
      "text/plain": [
       "'Hello World with Python Programming'"
      ]
     },
     "execution_count": 10,
     "metadata": {},
     "output_type": "execute_result"
    }
   ],
   "execution_count": 10
  },
  {
   "metadata": {},
   "cell_type": "markdown",
   "source": "Strings also provide some helpful methods to work on the data:"
  },
  {
   "metadata": {
    "ExecuteTime": {
     "end_time": "2024-05-31T09:52:47.922148Z",
     "start_time": "2024-05-31T09:52:47.920361Z"
    }
   },
   "cell_type": "code",
   "source": [
    "# Convert to uppercase letters\n",
    "print(single_quoted_str.upper())\n",
    "# Convert to lowercase letters\n",
    "print(double_quoted_str.lower())\n",
    "# Count occurrences of letters\n",
    "print(double_quoted_str.lower().count('p'))"
   ],
   "outputs": [
    {
     "name": "stdout",
     "output_type": "stream",
     "text": [
      "HELLO WORLD\n",
      "python programming\n",
      "2\n"
     ]
    }
   ],
   "execution_count": 11
  },
  {
   "metadata": {},
   "cell_type": "markdown",
   "source": [
    "### f-strings\n",
    "\n",
    "We can use so-called f-strings (formatted string literals) which are defined by simply adding an f before the opening quote of a regular string:"
   ]
  },
  {
   "metadata": {
    "ExecuteTime": {
     "end_time": "2024-05-31T09:52:47.927683Z",
     "start_time": "2024-05-31T09:52:47.925751Z"
    }
   },
   "cell_type": "code",
   "source": "f\"This is an f-string\"",
   "outputs": [
    {
     "data": {
      "text/plain": [
       "'This is an f-string'"
      ]
     },
     "execution_count": 12,
     "metadata": {},
     "output_type": "execute_result"
    }
   ],
   "execution_count": 12
  },
  {
   "metadata": {},
   "cell_type": "markdown",
   "source": "We can now add variables directly in this text by surrounding them with curly brackets:"
  },
  {
   "metadata": {
    "ExecuteTime": {
     "end_time": "2024-05-31T09:52:47.939733Z",
     "start_time": "2024-05-31T09:52:47.937909Z"
    }
   },
   "cell_type": "code",
   "source": "f\"a's value is {a}. Doubling the value of a gives {2*a}.\"",
   "outputs": [
    {
     "data": {
      "text/plain": [
       "\"a's value is 5. Doubling the value of a gives 10.\""
      ]
     },
     "execution_count": 13,
     "metadata": {},
     "output_type": "execute_result"
    }
   ],
   "execution_count": 13
  },
  {
   "metadata": {},
   "cell_type": "markdown",
   "source": "As you can see above, f-strings can contain as many variables as needed, and curly brackets can contain more than just a variable. We can even execute code inside them, i.e., methods on string objects:"
  },
  {
   "metadata": {
    "ExecuteTime": {
     "end_time": "2024-05-31T09:52:47.960787Z",
     "start_time": "2024-05-31T09:52:47.959268Z"
    }
   },
   "cell_type": "code",
   "source": "first_name = 'Matthias'",
   "outputs": [],
   "execution_count": 14
  },
  {
   "metadata": {
    "ExecuteTime": {
     "end_time": "2024-05-31T09:52:47.968961Z",
     "start_time": "2024-05-31T09:52:47.967138Z"
    }
   },
   "cell_type": "code",
   "source": "f\"The first_name variable '{first_name}' contains {first_name.lower().count('t')} t letters.\"",
   "outputs": [
    {
     "data": {
      "text/plain": [
       "\"The first_name variable 'Matthias' contains 2 t letters.\""
      ]
     },
     "execution_count": 15,
     "metadata": {},
     "output_type": "execute_result"
    }
   ],
   "execution_count": 15
  },
  {
   "cell_type": "markdown",
   "metadata": {},
   "source": [
    "### Type Conversions\n",
    "We can also convert one type to another type in Python."
   ]
  },
  {
   "cell_type": "code",
   "metadata": {
    "ExecuteTime": {
     "end_time": "2024-05-31T09:52:47.971980Z",
     "start_time": "2024-05-31T09:52:47.969964Z"
    }
   },
   "source": [
    "# Type conversions\n",
    "integer_to_float = float(integer_num)\n",
    "float_to_integer = int(float_num)\n",
    "boolean_to_string = str(is_true)\n",
    "string_to_boolean = bool(\"True\")\n",
    "\n",
    "print('integer_to_float:', integer_to_float, type(integer_to_float))\n",
    "print('float_to_integer:', float_to_integer, type(float_to_integer))\n",
    "print('boolean_to_string:', boolean_to_string, type(boolean_to_string))\n",
    "print('string_to_boolean:', string_to_boolean, type(string_to_boolean))"
   ],
   "outputs": [
    {
     "name": "stdout",
     "output_type": "stream",
     "text": [
      "integer_to_float: 10.0 <class 'float'>\n",
      "float_to_integer: 10 <class 'int'>\n",
      "boolean_to_string: True <class 'str'>\n",
      "string_to_boolean: True <class 'bool'>\n"
     ]
    }
   ],
   "execution_count": 16
  },
  {
   "cell_type": "markdown",
   "metadata": {},
   "source": [
    "## Exercises\n",
    "\n",
    "1. Create a variable and assign a value of your choice to it. Print the variable.\n",
    "2. Declare two number variables and perform addition, subtraction, multiplication, and division operations on them. Print the results.\n",
    "3. Try to combine the number and string variables? What happens? What is necessary to do so?"
   ]
  },
  {
   "metadata": {
    "ExecuteTime": {
     "end_time": "2024-05-31T09:52:47.973785Z",
     "start_time": "2024-05-31T09:52:47.972653Z"
    }
   },
   "cell_type": "code",
   "source": "",
   "outputs": [],
   "execution_count": 16
  },
  {
   "metadata": {},
   "cell_type": "markdown",
   "source": "[Marie Curie](https://en.wikipedia.org/wiki/Marie_Curie)'s name and birthdate are stored in variables. Concatenate them in one string variable and print it out. The output should be \"Marie Curie, * 7 November 1867\""
  },
  {
   "metadata": {
    "ExecuteTime": {
     "end_time": "2024-05-31T09:52:47.975762Z",
     "start_time": "2024-05-31T09:52:47.974303Z"
    }
   },
   "cell_type": "code",
   "source": [
    "first_name = \"Marie\"\n",
    "last_name = \"Curie\"\n",
    "\n",
    "birthday_day = 7\n",
    "birthday_month = \"November\"\n",
    "birthday_year = 1867"
   ],
   "outputs": [],
   "execution_count": 17
  },
  {
   "metadata": {
    "ExecuteTime": {
     "end_time": "2024-05-31T09:52:47.978422Z",
     "start_time": "2024-05-31T09:52:47.977424Z"
    }
   },
   "cell_type": "code",
   "source": "",
   "outputs": [],
   "execution_count": 17
  }
 ],
 "metadata": {
  "kernelspec": {
   "display_name": "Python 3",
   "language": "python",
   "name": "python3"
  },
  "language_info": {
   "codemirror_mode": {
    "name": "ipython",
    "version": 3
   },
   "file_extension": ".py",
   "mimetype": "text/x-python",
   "name": "python",
   "nbconvert_exporter": "python",
   "pygments_lexer": "ipython3",
   "version": "3.8.5"
  }
 },
 "nbformat": 4,
 "nbformat_minor": 4
}
