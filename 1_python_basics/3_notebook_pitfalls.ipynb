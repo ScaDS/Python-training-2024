{
 "cells": [
  {
   "metadata": {},
   "cell_type": "markdown",
   "source": [
    "# Pitfalls when working with Jupyter notebooks\n",
    "\n",
    "You can execute the same cell in Jupyter notebooks multiple times. This may lead to notebooks which make no sense to the reader."
   ],
   "id": "1a7c2b673d8a06b"
  },
  {
   "metadata": {
    "ExecuteTime": {
     "end_time": "2024-05-31T09:53:11.676766Z",
     "start_time": "2024-05-31T09:53:11.674479Z"
    }
   },
   "cell_type": "code",
   "source": [
    "a = 5\n",
    "b = 5"
   ],
   "id": "516e9c51fbf0ad4",
   "outputs": [],
   "execution_count": 1
  },
  {
   "metadata": {
    "ExecuteTime": {
     "end_time": "2024-05-31T09:53:19.530345Z",
     "start_time": "2024-05-31T09:53:19.528274Z"
    }
   },
   "cell_type": "code",
   "source": "a = a + 1",
   "id": "6e6658524f137bc4",
   "outputs": [],
   "execution_count": 10
  },
  {
   "metadata": {
    "ExecuteTime": {
     "end_time": "2024-05-31T09:53:21.495528Z",
     "start_time": "2024-05-31T09:53:21.491622Z"
    }
   },
   "cell_type": "code",
   "source": "a + b",
   "id": "7ad442edb5dd050c",
   "outputs": [
    {
     "data": {
      "text/plain": [
       "15"
      ]
     },
     "execution_count": 11,
     "metadata": {},
     "output_type": "execute_result"
    }
   ],
   "execution_count": 11
  },
  {
   "metadata": {},
   "cell_type": "markdown",
   "source": "You can execute them in the wrong order or overwrite variables, which leads to the same effect.",
   "id": "1650d061793262d2"
  },
  {
   "metadata": {
    "ExecuteTime": {
     "end_time": "2024-05-31T09:53:27.801150Z",
     "start_time": "2024-05-31T09:53:27.797869Z"
    }
   },
   "cell_type": "code",
   "source": "d = 5",
   "id": "60c3052ef891a6e3",
   "outputs": [],
   "execution_count": 12
  },
  {
   "metadata": {
    "ExecuteTime": {
     "end_time": "2024-05-31T09:53:11.687073Z",
     "start_time": "2024-05-31T09:53:11.685804Z"
    }
   },
   "cell_type": "code",
   "source": "d = 10",
   "id": "14d2dd5636cdd77b",
   "outputs": [],
   "execution_count": 5
  },
  {
   "metadata": {
    "ExecuteTime": {
     "end_time": "2024-05-31T09:53:29.123146Z",
     "start_time": "2024-05-31T09:53:29.120014Z"
    }
   },
   "cell_type": "code",
   "source": "d",
   "id": "5d251aa9ea88a0d3",
   "outputs": [
    {
     "data": {
      "text/plain": [
       "5"
      ]
     },
     "execution_count": 13,
     "metadata": {},
     "output_type": "execute_result"
    }
   ],
   "execution_count": 13
  },
  {
   "metadata": {},
   "cell_type": "markdown",
   "source": "You can see that cells were executed in the wrong order, repeatedly or not subsequently, by reading the number `[?]` left to the cell.",
   "id": "4b54c88431da0ae4"
  },
  {
   "metadata": {},
   "cell_type": "markdown",
   "source": "![](cell_execution_number.png)",
   "id": "bcd0aefa0ec96d2"
  },
  {
   "metadata": {},
   "cell_type": "markdown",
   "source": "Tip: When your notebook is ready, click on menu `Kernel > Restart & Run all` to make sure all cells in the notebook are executed in the right order.",
   "id": "776e26ddfb7803f5"
  }
 ],
 "metadata": {
  "kernelspec": {
   "display_name": "Python 3",
   "language": "python",
   "name": "python3"
  },
  "language_info": {
   "codemirror_mode": {
    "name": "ipython",
    "version": 2
   },
   "file_extension": ".py",
   "mimetype": "text/x-python",
   "name": "python",
   "nbconvert_exporter": "python",
   "pygments_lexer": "ipython2",
   "version": "2.7.6"
  }
 },
 "nbformat": 4,
 "nbformat_minor": 5
}
