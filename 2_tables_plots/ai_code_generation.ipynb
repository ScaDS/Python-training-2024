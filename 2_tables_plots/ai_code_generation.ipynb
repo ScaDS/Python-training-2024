{
 "cells": [
  {
   "cell_type": "markdown",
   "id": "b16b9fe7-bfd8-4de2-8bf4-d464ebd24c55",
   "metadata": {},
   "source": [
    "# Code generation using AI\n",
    "When writing Python code, it often comes to the situation that we write similar code again and again. Luckily, the invention of large language models, such as ChatGPT, allow us to automate this task. This notebook was almost entirely written by ChatGPT through an open-source library called [bia-bob](https://github.com/haesleinhuepf/bia-bob)."
   ]
  },
  {
   "cell_type": "code",
   "execution_count": 1,
   "id": "a4d91d8d-f830-4090-84ed-1d08e4f3ae3d",
   "metadata": {
    "tags": []
   },
   "outputs": [
    {
     "data": {
      "text/plain": [
       "'0.15.0'"
      ]
     },
     "execution_count": 1,
     "metadata": {},
     "output_type": "execute_result"
    }
   ],
   "source": [
    "import bia_bob\n",
    "bia_bob.__version__"
   ]
  },
  {
   "cell_type": "markdown",
   "id": "2c400051-8d5d-43e4-864e-8de3e47b1675",
   "metadata": {},
   "source": [
    "When we provide instructions that are detailed enough, `bob` can generated code for solving the task. In the next cell, starting with `%%bob` we see a prompt asking ChatGPT under the hood to write code. The corresponding code is given in the next cell."
   ]
  },
  {
   "cell_type": "code",
   "execution_count": 2,
   "id": "b0bbbe5a-cb6b-4836-b9c5-09ce4ba3a809",
   "metadata": {
    "tags": []
   },
   "outputs": [
    {
     "data": {
      "text/markdown": [
       "The task is to generate a pandas DataFrame with columns for day, temperature, and rain, covering an entire year, with values typical for each season. The DataFrame is then saved to a CSV file.\n",
       "\n"
      ],
      "text/plain": [
       "<IPython.core.display.Markdown object>"
      ]
     },
     "metadata": {},
     "output_type": "display_data"
    }
   ],
   "source": [
    "%%bob Write python code that generates a pandas Dataframe with three columns: \n",
    "* day (values 0-355), \n",
    "* temperature in degrees celsius, and \n",
    "* rain in mm. \n",
    "The table covers an entire year and holds values typical for the season. The first quarter of the table is spring, the second summer and so on. \n",
    "Save this dataframe to a csv file."
   ]
  },
  {
   "cell_type": "code",
   "execution_count": 3,
   "id": "78f0d387-9fde-4440-9282-12f61488f24a",
   "metadata": {
    "tags": []
   },
   "outputs": [
    {
     "name": "stdout",
     "output_type": "stream",
     "text": [
      "DataFrame saved to yearly_weather.csv\n"
     ]
    }
   ],
   "source": [
    "import pandas as pd\n",
    "import numpy as np\n",
    "\n",
    "# Days from 0 to 355 for the whole year\n",
    "days = np.arange(0, 356)\n",
    "\n",
    "# Generating temperature and rain values\n",
    "# Spring (days 0-89), Summer (days 90-179), Autumn (days 180-269), Winter (days 270-355)\n",
    "\n",
    "temperature = np.concatenate([\n",
    "    np.random.normal(loc=15, scale=5, size=90),  # Spring\n",
    "    np.random.normal(loc=25, scale=5, size=90),  # Summer\n",
    "    np.random.normal(loc=10, scale=5, size=90),  # Autumn\n",
    "    np.random.normal(loc=0, scale=5, size=86)    # Winter\n",
    "])\n",
    "\n",
    "rain = np.concatenate([\n",
    "    np.random.normal(loc=5, scale=3, size=90),  # Spring\n",
    "    np.random.normal(loc=2, scale=2, size=90),  # Summer\n",
    "    np.random.normal(loc=7, scale=4, size=90),  # Autumn\n",
    "    np.random.normal(loc=10, scale=5, size=86)  # Winter\n",
    "])\n",
    "\n",
    "# Creating the DataFrame\n",
    "df = pd.DataFrame({\n",
    "    'day': days,\n",
    "    'temperature': temperature,\n",
    "    'rain': rain\n",
    "})\n",
    "\n",
    "# Save to CSV\n",
    "df.to_csv('yearly_weather.csv', index=False)\n",
    "\n",
    "print(\"DataFrame saved to yearly_weather.csv\")"
   ]
  },
  {
   "cell_type": "markdown",
   "id": "3210afd1-08bd-4890-8577-e09a57f4a2cd",
   "metadata": {},
   "source": [
    "## Generating Notebooks\n",
    "We can also use the same mechanism to generate an entire notebook. If we specify that we are Python beginners, the resulting code and explanations will be more detailed, tailored to our needs."
   ]
  },
  {
   "cell_type": "code",
   "execution_count": 4,
   "id": "07580336-eda8-443d-bbf1-304e566f5ddc",
   "metadata": {
    "tags": []
   },
   "outputs": [
    {
     "data": {
      "text/markdown": [
       "A notebook has been saved as [beginner_weather_analysis.ipynb](beginner_weather_analysis.ipynb)."
      ],
      "text/plain": [
       "<IPython.core.display.Markdown object>"
      ]
     },
     "metadata": {},
     "output_type": "display_data"
    }
   ],
   "source": [
    "%%bob assume you communicate with a Python beginner. Generate Jupyter notebook that covers the following:\n",
    "* Load yearly_weather.csv using pandas, \n",
    "* visualize the head of the table, \n",
    "* summarize the table\n",
    "* compute the mean and maximum temperature (a column in the table)\n",
    "* plot the rain over the days (scatter plot).\n",
    "* group the data by associateding the days of a year to the four seasons (each a quarter of the datapoints). \n",
    "* plot a boxplot of rain in the four seasons.'\n"
   ]
  },
  {
   "cell_type": "markdown",
   "id": "5776dca0-e03e-478b-8c2a-10518dc76cf5",
   "metadata": {},
   "source": [
    "## Exercise\n",
    "Ask ´bob´ to generate a dataset of students and exam grades. Ask it to write another notebook for plotting the grades between 1-5 in a box-plot. \n",
    "What was the average grade of the made-up students?"
   ]
  },
  {
   "cell_type": "code",
   "execution_count": null,
   "id": "e5847086-5748-40bc-acac-64d653952da9",
   "metadata": {},
   "outputs": [],
   "source": []
  }
 ],
 "metadata": {
  "kernelspec": {
   "display_name": "Python 3 (ipykernel)",
   "language": "python",
   "name": "python3"
  },
  "language_info": {
   "codemirror_mode": {
    "name": "ipython",
    "version": 3
   },
   "file_extension": ".py",
   "mimetype": "text/x-python",
   "name": "python",
   "nbconvert_exporter": "python",
   "pygments_lexer": "ipython3",
   "version": "3.9.19"
  }
 },
 "nbformat": 4,
 "nbformat_minor": 5
}
