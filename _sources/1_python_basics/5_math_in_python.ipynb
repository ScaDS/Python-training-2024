{
 "cells": [
  {
   "metadata": {},
   "cell_type": "markdown",
   "source": [
    "# Basic math in Python\n",
    "With our understanding of variables, methods, and functions, we'll have a look at how to do some basic math in Python. Besides the [available operators in Python](https://docs.python.org/3/library/operator.html#mapping-operators-to-functions), we will also make use of modules from the [Python standard library](https://docs.python.org/3/library/index.html).\n",
    "\n",
    "First, we define the variables `a` and `b` again and assign the values `5` and `3`:"
   ],
   "id": "73a7423620a05efa"
  },
  {
   "metadata": {
    "ExecuteTime": {
     "end_time": "2024-05-31T09:54:21.928736Z",
     "start_time": "2024-05-31T09:54:21.925875Z"
    }
   },
   "cell_type": "code",
   "source": [
    "a = 5\n",
    "b = 3"
   ],
   "id": "ef60780bbde2e9cb",
   "outputs": [],
   "execution_count": 1
  },
  {
   "metadata": {},
   "cell_type": "markdown",
   "source": [
    "## Usage of mathematical operators and built-in functions\n",
    "To do math with variables, we can combine them with mathematical operators."
   ],
   "id": "4d05563d62c5ba88"
  },
  {
   "metadata": {
    "ExecuteTime": {
     "end_time": "2024-05-31T09:54:21.932545Z",
     "start_time": "2024-05-31T09:54:21.930542Z"
    }
   },
   "cell_type": "code",
   "source": [
    "c = a + b # add\n",
    "d = a - b # subtract\n",
    "e = a * b # multiply\n",
    "f = a ** b # exponent\n",
    "g = a / b # divide\n",
    "h = a // b # rounding division\n",
    "i = a % b # modulo"
   ],
   "id": "c54a55dfe1521fef",
   "outputs": [],
   "execution_count": 2
  },
  {
   "metadata": {
    "ExecuteTime": {
     "end_time": "2024-05-31T09:54:21.945844Z",
     "start_time": "2024-05-31T09:54:21.944026Z"
    }
   },
   "cell_type": "code",
   "source": "print(c)",
   "id": "39aeeb1950810a55",
   "outputs": [
    {
     "name": "stdout",
     "output_type": "stream",
     "text": [
      "8\n"
     ]
    }
   ],
   "execution_count": 3
  },
  {
   "metadata": {},
   "cell_type": "markdown",
   "source": "We can also use [built-in functions](https://docs.python.org/3/library/functions.html) for math:",
   "id": "6d89aab93b0c60b9"
  },
  {
   "metadata": {
    "ExecuteTime": {
     "end_time": "2024-05-31T09:54:21.949752Z",
     "start_time": "2024-05-31T09:54:21.946859Z"
    }
   },
   "cell_type": "code",
   "source": "pow(a, b)",
   "id": "984bf72b2eedfe51",
   "outputs": [
    {
     "data": {
      "text/plain": [
       "125"
      ]
     },
     "execution_count": 4,
     "metadata": {},
     "output_type": "execute_result"
    }
   ],
   "execution_count": 4
  },
  {
   "metadata": {
    "ExecuteTime": {
     "end_time": "2024-05-31T09:54:21.952463Z",
     "start_time": "2024-05-31T09:54:21.950561Z"
    }
   },
   "cell_type": "code",
   "source": "abs(-1)",
   "id": "55ae9051ef4e34a2",
   "outputs": [
    {
     "data": {
      "text/plain": [
       "1"
      ]
     },
     "execution_count": 5,
     "metadata": {},
     "output_type": "execute_result"
    }
   ],
   "execution_count": 5
  },
  {
   "metadata": {
    "ExecuteTime": {
     "end_time": "2024-05-31T09:54:21.955495Z",
     "start_time": "2024-05-31T09:54:21.953490Z"
    }
   },
   "cell_type": "code",
   "source": "round(1.6)",
   "id": "f7e1743d156be938",
   "outputs": [
    {
     "data": {
      "text/plain": [
       "2"
      ]
     },
     "execution_count": 6,
     "metadata": {},
     "output_type": "execute_result"
    }
   ],
   "execution_count": 6
  },
  {
   "metadata": {},
   "cell_type": "markdown",
   "source": "Sometimes, functions may behave unexpected:",
   "id": "70e4cdec4a79d5c6"
  },
  {
   "metadata": {
    "ExecuteTime": {
     "end_time": "2024-05-31T09:54:21.957994Z",
     "start_time": "2024-05-31T09:54:21.956273Z"
    }
   },
   "cell_type": "code",
   "source": "round(4.5)",
   "id": "5ebae2eacab949eb",
   "outputs": [
    {
     "data": {
      "text/plain": [
       "4"
      ]
     },
     "execution_count": 7,
     "metadata": {},
     "output_type": "execute_result"
    }
   ],
   "execution_count": 7
  },
  {
   "metadata": {
    "ExecuteTime": {
     "end_time": "2024-05-31T09:54:21.960452Z",
     "start_time": "2024-05-31T09:54:21.958675Z"
    }
   },
   "cell_type": "code",
   "source": "round(5.5)",
   "id": "5400d36e8863d880",
   "outputs": [
    {
     "data": {
      "text/plain": [
       "6"
      ]
     },
     "execution_count": 8,
     "metadata": {},
     "output_type": "execute_result"
    }
   ],
   "execution_count": 8
  },
  {
   "metadata": {
    "ExecuteTime": {
     "end_time": "2024-05-31T09:54:21.962944Z",
     "start_time": "2024-05-31T09:54:21.961230Z"
    }
   },
   "cell_type": "code",
   "source": "round(6.5)",
   "id": "3511b56cf097df22",
   "outputs": [
    {
     "data": {
      "text/plain": [
       "6"
      ]
     },
     "execution_count": 9,
     "metadata": {},
     "output_type": "execute_result"
    }
   ],
   "execution_count": 9
  },
  {
   "metadata": {},
   "cell_type": "markdown",
   "source": "So always test those functions before productive use and refer to the [official docs](https://docs.python.org/3/library/functions.html#round)",
   "id": "2f2362f9327f852d"
  },
  {
   "metadata": {},
   "cell_type": "markdown",
   "source": [
    "## Usage of modules\n",
    "Modules can be used for additional mathematical functionalities, e.g., the [math module](https://docs.python.org/3/library/math.html) or the [statistics module](https://docs.python.org/3/library/statistics.html). To do so, they need to be imported before:\n"
   ],
   "id": "d47211c3c6ce03e2"
  },
  {
   "metadata": {
    "ExecuteTime": {
     "end_time": "2024-05-31T09:54:21.966625Z",
     "start_time": "2024-05-31T09:54:21.963726Z"
    }
   },
   "cell_type": "code",
   "source": [
    "import math\n",
    "import statistics"
   ],
   "id": "555182137151ac9",
   "outputs": [],
   "execution_count": 10
  },
  {
   "metadata": {
    "ExecuteTime": {
     "end_time": "2024-05-31T09:54:21.968927Z",
     "start_time": "2024-05-31T09:54:21.967136Z"
    }
   },
   "cell_type": "code",
   "source": "math.ceil(6.5)",
   "id": "8a49a14b7127372",
   "outputs": [
    {
     "data": {
      "text/plain": [
       "7"
      ]
     },
     "execution_count": 11,
     "metadata": {},
     "output_type": "execute_result"
    }
   ],
   "execution_count": 11
  },
  {
   "metadata": {
    "ExecuteTime": {
     "end_time": "2024-05-31T09:54:21.971490Z",
     "start_time": "2024-05-31T09:54:21.969815Z"
    }
   },
   "cell_type": "code",
   "source": "math.floor(6.5)",
   "id": "f367332139c085a9",
   "outputs": [
    {
     "data": {
      "text/plain": [
       "6"
      ]
     },
     "execution_count": 12,
     "metadata": {},
     "output_type": "execute_result"
    }
   ],
   "execution_count": 12
  },
  {
   "metadata": {
    "ExecuteTime": {
     "end_time": "2024-05-31T09:54:21.974622Z",
     "start_time": "2024-05-31T09:54:21.972978Z"
    }
   },
   "cell_type": "code",
   "source": "math.sqrt(9)",
   "id": "940851caa78fb53f",
   "outputs": [
    {
     "data": {
      "text/plain": [
       "3.0"
      ]
     },
     "execution_count": 13,
     "metadata": {},
     "output_type": "execute_result"
    }
   ],
   "execution_count": 13
  },
  {
   "metadata": {
    "ExecuteTime": {
     "end_time": "2024-05-31T09:54:21.994080Z",
     "start_time": "2024-05-31T09:54:21.992078Z"
    }
   },
   "cell_type": "code",
   "source": "math.pi",
   "id": "d755fc64b4acc759",
   "outputs": [
    {
     "data": {
      "text/plain": [
       "3.141592653589793"
      ]
     },
     "execution_count": 14,
     "metadata": {},
     "output_type": "execute_result"
    }
   ],
   "execution_count": 14
  },
  {
   "metadata": {
    "ExecuteTime": {
     "end_time": "2024-05-31T09:54:21.996428Z",
     "start_time": "2024-05-31T09:54:21.994784Z"
    }
   },
   "cell_type": "code",
   "source": "data = [3, 5, 1, 7, 2, 1]",
   "id": "dbc2eef04bb1afa9",
   "outputs": [],
   "execution_count": 15
  },
  {
   "metadata": {
    "ExecuteTime": {
     "end_time": "2024-05-31T09:54:22.002636Z",
     "start_time": "2024-05-31T09:54:22.000737Z"
    }
   },
   "cell_type": "code",
   "source": "statistics.mean(data)",
   "id": "90691b7ac65cf84",
   "outputs": [
    {
     "data": {
      "text/plain": [
       "3.1666666666666665"
      ]
     },
     "execution_count": 16,
     "metadata": {},
     "output_type": "execute_result"
    }
   ],
   "execution_count": 16
  },
  {
   "metadata": {
    "ExecuteTime": {
     "end_time": "2024-05-31T09:54:22.005129Z",
     "start_time": "2024-05-31T09:54:22.003369Z"
    }
   },
   "cell_type": "code",
   "source": "statistics.mode(data)",
   "id": "8a8f79727b15fd31",
   "outputs": [
    {
     "data": {
      "text/plain": [
       "1"
      ]
     },
     "execution_count": 17,
     "metadata": {},
     "output_type": "execute_result"
    }
   ],
   "execution_count": 17
  },
  {
   "metadata": {},
   "cell_type": "markdown",
   "source": [
    "## Exercise\n",
    "\n",
    "With our knowledge about the [built-in functions](https://docs.python.org/3/library/functions.html), how can we compute the mean value of the following list, without using `statistics.mean()`?"
   ],
   "id": "df87acb6dbde66e3"
  },
  {
   "metadata": {
    "ExecuteTime": {
     "end_time": "2024-05-31T09:54:22.007273Z",
     "start_time": "2024-05-31T09:54:22.005867Z"
    }
   },
   "cell_type": "code",
   "source": "my_list = [1, 2, 3, 4, 5]",
   "id": "bf6b76b3b23c5acc",
   "outputs": [],
   "execution_count": 18
  }
 ],
 "metadata": {
  "kernelspec": {
   "display_name": "Python 3",
   "language": "python",
   "name": "python3"
  },
  "language_info": {
   "codemirror_mode": {
    "name": "ipython",
    "version": 2
   },
   "file_extension": ".py",
   "mimetype": "text/x-python",
   "name": "python",
   "nbconvert_exporter": "python",
   "pygments_lexer": "ipython2",
   "version": "2.7.6"
  }
 },
 "nbformat": 4,
 "nbformat_minor": 5
}
