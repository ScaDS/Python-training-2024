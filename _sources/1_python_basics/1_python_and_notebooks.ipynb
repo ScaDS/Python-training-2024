{
 "cells": [
  {
   "cell_type": "markdown",
   "metadata": {},
   "source": [
    "# Python code and Jupyter notebooks\n",
    "\n",
    "Python code can be written and executed in different ways. We'll first have a look at how to execute Python code from prepared files, which is commonly used to run software written in Python. Then, we'll explain the usage of [Jupyter notebooks](https://jupyter-notebook.readthedocs.io/en/latest/), which allows the interactive execution of Python code in a browser-based environment, mostly used for scripting and data analysis with Python."
   ],
   "id": "8b6b7dc8142f469e"
  },
  {
   "metadata": {},
   "cell_type": "markdown",
   "source": [
    "## Python execution via Python files\n",
    "\n",
    "Python code can be written in \".py\" files, which can be executed from the command line via the installed Python instance. We can do this with the simple file `hello.py` in this folder. \n",
    "\n",
    "Either, execute it in the terminal via ```python hello.py```.\n",
    "\n",
    "Or, execute the following cell by selecting it and hitting `Ctrl + Enter`\n",
    "\n",
    "Both will tell the Python interpreter to execute the code in the file."
   ],
   "id": "d24ea4473b992c56"
  },
  {
   "metadata": {
    "ExecuteTime": {
     "end_time": "2024-05-31T09:52:37.183006Z",
     "start_time": "2024-05-31T09:52:37.043982Z"
    }
   },
   "cell_type": "code",
   "source": "!python hello.py",
   "id": "c9d097c1bfcd80ad",
   "outputs": [
    {
     "name": "stdout",
     "output_type": "stream",
     "text": [
      "hello world\r\n"
     ]
    }
   ],
   "execution_count": 1
  },
  {
   "cell_type": "markdown",
   "metadata": {},
   "source": [
    "## How a Jupyter notebook differs from Python files\n",
    "\n",
    "Running Python code in a Jupyter Notebook is different from running a file in the terminal. In a terminal, you execute the whole file at once. In a Jupyter Notebook, you can execute code in smaller pieces called 'cells'."
   ],
   "id": "64896e5b81a8f8de"
  },
  {
   "cell_type": "markdown",
   "metadata": {},
   "source": [
    "### How a Jupyter notebook works and its cell types\n",
    "\n",
    "A Jupyter Notebook is a web-based interactive computing platform. It allows you to create and share documents that contain code, equations, visualizations, and narrative text for documentation. There are three main types of cells in a Jupyter notebook:\n",
    "\n",
    "1. **Code Cells**: These cells contain code you want to run. When executed, they display the output directly below the cell.\n",
    "2. **Markdown Cells**: These cells contain text formatted using Markdown. Markdown is a simple way to format text using plain text symbols.\n",
    "3. **Raw Cells**: These cells contain raw text that is not meant to be executed. They are useful for writing plain text or including results from other programs."
   ],
   "id": "b5d2a05095e12e66"
  },
  {
   "metadata": {},
   "cell_type": "markdown",
   "source": [
    "### Keyboard shortcuts\n",
    "\n",
    "* When working with Jupyter notebooks, `CTRL-ENTER` or `SHIFT-ENTER` are **the** shortcuts people use all the time. \n",
    "* If you want to \"leave\" a cell without executing it, you can also hit `ESCAPE`. \n",
    "* You can add a new cell **a**bove the current cell by hitting `A` and **b**elow by hitting `B`. \n",
    "* You can delete cells by hitting `D` twice.\n",
    "\n",
    "There are more shortcuts. You can see them all in the menu above `Help > Keyboard shortcuts` or by hitting `H`.\n",
    "\n",
    "Try it out!"
   ],
   "id": "468e2c1a6d903770"
  },
  {
   "metadata": {
    "ExecuteTime": {
     "end_time": "2024-05-31T09:52:37.185678Z",
     "start_time": "2024-05-31T09:52:37.184251Z"
    }
   },
   "cell_type": "code",
   "source": "",
   "id": "bd855bab1aac5fe4",
   "outputs": [],
   "execution_count": 1
  },
  {
   "metadata": {
    "ExecuteTime": {
     "end_time": "2024-05-31T09:52:37.187836Z",
     "start_time": "2024-05-31T09:52:37.186412Z"
    }
   },
   "cell_type": "code",
   "source": "",
   "id": "2c57901a36942703",
   "outputs": [],
   "execution_count": 1
  },
  {
   "metadata": {
    "ExecuteTime": {
     "end_time": "2024-05-31T09:52:37.190543Z",
     "start_time": "2024-05-31T09:52:37.189034Z"
    }
   },
   "cell_type": "code",
   "source": "",
   "id": "126678bf1d335ef8",
   "outputs": [],
   "execution_count": 1
  },
  {
   "metadata": {},
   "cell_type": "markdown",
   "source": [
    "### Markdown documentation in Jupyter notebooks\n",
    "Markdown is a markup language for describing the **formating** of *text*. To see the Markdown code which describes this text, double-click this cell in your Jupyter notebook. Hit `CTRL+ENTER` to execute it and return to the viewing mode.\n",
    "\n",
    "* Bullet point\n",
    "* More bullet points\n",
    "  * Deeper bullet points\n",
    "\n",
    "1. List entry\n",
    "2. Another list entry\n",
    "4. More list entries\n",
    "8. [Markdown cheatsheet](https://github.com/adam-p/markdown-here/wiki/Markdown-Cheatsheet)"
   ],
   "id": "b60f6c2579b8f7a4"
  },
  {
   "cell_type": "markdown",
   "metadata": {},
   "source": "Let's try executing some code in a code cell. Add a cell below to execute Python code which will print your name.",
   "id": "6d31e84301b6f94f"
  }
 ],
 "metadata": {
  "kernelspec": {
   "display_name": "Python 3",
   "language": "python",
   "name": "python3"
  },
  "language_info": {
   "codemirror_mode": {
    "name": "ipython",
    "version": 3
   },
   "file_extension": ".py",
   "mimetype": "text/x-python",
   "name": "python",
   "nbconvert_exporter": "python",
   "pygments_lexer": "ipython3",
   "version": "3.8.8"
  }
 },
 "nbformat": 4,
 "nbformat_minor": 5
}
