{
 "cells": [
  {
   "cell_type": "markdown",
   "id": "b16b9fe7-bfd8-4de2-8bf4-d464ebd24c55",
   "metadata": {},
   "source": [
    "# Code generation using AI\n",
    "When writing Python code, it often comes to the situation that we write similar code again and again. Luckily, the invention of large language models, such as ChatGPT, allow us to automate this task. This notebook was almost entirely written by ChatGPT through an open-source library called [bia-bob](https://github.com/haesleinhuepf/bia-bob)."
   ]
  },
  {
   "cell_type": "code",
   "execution_count": 1,
   "id": "621e3fc823a2712a",
   "metadata": {},
   "outputs": [],
   "source": [
    "import os\n",
    "os.environ['OPENAI_API_KEY'] = 'sk-...'"
   ]
  },
  {
   "cell_type": "code",
   "execution_count": 2,
   "id": "a4d91d8d-f830-4090-84ed-1d08e4f3ae3d",
   "metadata": {
    "tags": []
   },
   "outputs": [
    {
     "data": {
      "text/plain": [
       "'0.15.0'"
      ]
     },
     "execution_count": 2,
     "metadata": {},
     "output_type": "execute_result"
    }
   ],
   "source": [
    "import bia_bob\n",
    "bia_bob.__version__"
   ]
  },
  {
   "cell_type": "markdown",
   "id": "2c400051-8d5d-43e4-864e-8de3e47b1675",
   "metadata": {},
   "source": [
    "When we provide instructions that are detailed enough, `bob` can generated code for solving specific tasks. \n",
    "\n",
    "In the next cell, starting with `%%bob` we see a prompt asking ChatGPT under the hood to write code for teh creating of near-realistic weather data. The corresponding code is given in the next cell."
   ]
  },
  {
   "cell_type": "code",
   "execution_count": 10,
   "id": "b0bbbe5a-cb6b-4836-b9c5-09ce4ba3a809",
   "metadata": {
    "tags": []
   },
   "outputs": [
    {
     "data": {
      "text/markdown": [
       "We will generate a pandas DataFrame with columns for the day (covering the entire year 2023), temperature (in degrees Celsius), and rain (in mm). The temperature and rain values will follow typical seasonal variations for Germany, with some outliers for heavy rain events. Finally, we will save the DataFrame to a CSV file named 'german_weather_2023.csv'.\n",
       "\n"
      ],
      "text/plain": [
       "<IPython.core.display.Markdown object>"
      ]
     },
     "metadata": {},
     "output_type": "display_data"
    }
   ],
   "source": [
    "%%bob Write python code that generates a pandas Dataframe with three columns: \n",
    "* date with datetype values ranging from January 1st 2023 to December 31st 2023, \n",
    "* temperature in degrees celsius, and \n",
    "* rain in mm.\n",
    "Ignore that 2023 was a leap year and make sure that the generated values cover the 365 days.\n",
    "The values both for temperature and rain shall have a distribution typical for the four seasons in Germany.\n",
    "For rain, also create some outliers reflecting heavy rain events typical for Germany.\n",
    "Save this dataframe to a csv file called 'german_weather_2023.csv'."
   ]
  },
  {
   "cell_type": "code",
   "id": "294837c8-2b45-440e-9df8-a40b6968722f",
   "metadata": {
    "ExecuteTime": {
     "end_time": "2024-05-29T08:20:00.295501Z",
     "start_time": "2024-05-29T08:20:00.282753Z"
    }
   },
   "source": [
    "import pandas as pd\n",
    "import numpy as np\n",
    "\n",
    "# Step 1: Create date range\n",
    "date_range = pd.date_range(start='2023-01-01', end='2023-12-31')\n",
    "\n",
    "# Step 2-3: Generate seasonally typical temperature and rain data for Germany\n",
    "np.random.seed(42)  # For reproducibility\n",
    "temperatures = []\n",
    "rain = []\n",
    "for date in date_range:\n",
    "    if date.month in [12, 1, 2]:  # Winter\n",
    "        temperatures.append(np.random.uniform(-5, 5))\n",
    "        rain_value = np.random.uniform(5, 15)\n",
    "    elif date.month in [3, 4, 5]:  # Spring\n",
    "        temperatures.append(np.random.uniform(5, 15))\n",
    "        rain_value = np.random.uniform(5, 20)\n",
    "    elif date.month in [6, 7, 8]:  # Summer\n",
    "        temperatures.append(np.random.uniform(15, 30))\n",
    "        rain_value = np.random.uniform(0, 10)\n",
    "    elif date.month in [9, 10, 11]:  # Autumn\n",
    "        temperatures.append(np.random.uniform(5, 15))\n",
    "        rain_value = np.random.uniform(5, 20)\n",
    "    \n",
    "    # Introduce some outliers for heavy rain events\n",
    "    if np.random.rand() < 0.05:  # 5% probability\n",
    "        rain_value *= np.random.uniform(2, 5)\n",
    "    \n",
    "    rain.append(rain_value)\n",
    "    \n",
    "# Step 4: Combine into DataFrame\n",
    "data = {\n",
    "    'date': date_range,\n",
    "    'temperature': temperatures,\n",
    "    'rain': rain\n",
    "}\n",
    "df = pd.DataFrame(data)\n",
    "\n",
    "# Step 5: Save to CSV\n",
    "df.to_csv('german_weather_2023.csv', index=False)\n",
    "\n",
    "# Display the first few rows of DataFrame for verification\n",
    "display(df.head())"
   ],
   "outputs": [
    {
     "data": {
      "text/plain": [
       "        date  temperature       rain\n",
       "0 2023-01-01    -1.254599  14.507143\n",
       "1 2023-01-02     0.986585   6.560186\n",
       "2 2023-01-03    -4.419164  13.661761\n",
       "3 2023-01-04     2.080726   5.205845\n",
       "4 2023-01-05     3.324426   7.123391"
      ],
      "text/html": [
       "<div>\n",
       "<style scoped>\n",
       "    .dataframe tbody tr th:only-of-type {\n",
       "        vertical-align: middle;\n",
       "    }\n",
       "\n",
       "    .dataframe tbody tr th {\n",
       "        vertical-align: top;\n",
       "    }\n",
       "\n",
       "    .dataframe thead th {\n",
       "        text-align: right;\n",
       "    }\n",
       "</style>\n",
       "<table border=\"1\" class=\"dataframe\">\n",
       "  <thead>\n",
       "    <tr style=\"text-align: right;\">\n",
       "      <th></th>\n",
       "      <th>date</th>\n",
       "      <th>temperature</th>\n",
       "      <th>rain</th>\n",
       "    </tr>\n",
       "  </thead>\n",
       "  <tbody>\n",
       "    <tr>\n",
       "      <th>0</th>\n",
       "      <td>2023-01-01</td>\n",
       "      <td>-1.254599</td>\n",
       "      <td>14.507143</td>\n",
       "    </tr>\n",
       "    <tr>\n",
       "      <th>1</th>\n",
       "      <td>2023-01-02</td>\n",
       "      <td>0.986585</td>\n",
       "      <td>6.560186</td>\n",
       "    </tr>\n",
       "    <tr>\n",
       "      <th>2</th>\n",
       "      <td>2023-01-03</td>\n",
       "      <td>-4.419164</td>\n",
       "      <td>13.661761</td>\n",
       "    </tr>\n",
       "    <tr>\n",
       "      <th>3</th>\n",
       "      <td>2023-01-04</td>\n",
       "      <td>2.080726</td>\n",
       "      <td>5.205845</td>\n",
       "    </tr>\n",
       "    <tr>\n",
       "      <th>4</th>\n",
       "      <td>2023-01-05</td>\n",
       "      <td>3.324426</td>\n",
       "      <td>7.123391</td>\n",
       "    </tr>\n",
       "  </tbody>\n",
       "</table>\n",
       "</div>"
      ]
     },
     "metadata": {},
     "output_type": "display_data"
    }
   ],
   "execution_count": 9
  },
  {
   "cell_type": "markdown",
   "id": "3210afd1-08bd-4890-8577-e09a57f4a2cd",
   "metadata": {},
   "source": [
    "## Generating Notebooks\n",
    "We can also use the same mechanism to generate an entire Jupyter notebook for the analysis task. \n",
    "\n",
    "If we specify that we are Python beginners, the resulting code and explanations will be more detailed, tailored to our needs."
   ]
  },
  {
   "cell_type": "code",
   "execution_count": 16,
   "id": "07580336-eda8-443d-bbf1-304e566f5ddc",
   "metadata": {
    "tags": []
   },
   "outputs": [
    {
     "data": {
      "text/markdown": [
       "A notebook has been saved as [python_weather_analysis.ipynb](python_weather_analysis.ipynb)."
      ],
      "text/plain": [
       "<IPython.core.display.Markdown object>"
      ]
     },
     "metadata": {},
     "output_type": "display_data"
    }
   ],
   "source": [
    "%%bob assume you communicate with a Python beginner. Generate a Jupyter notebook named `python_weather_analysis` that covers the following:\n",
    "* Load german_weather_2023.csv using pandas, \n",
    "* visualize the head of the table, \n",
    "* summarize the table and show the infos for the dataframe\n",
    "* compute the mean and maximum temperature (a column in the table)\n",
    "* make use of pandas internal plotting methods to plot the rain over the days (scatter plot), omit the x-axis labels.\n",
    "* group the data to the four seasons by associating the months of a year. \n",
    "* plot a boxplot of rain in the four seasons using seaborn.'"
   ]
  },
  {
   "cell_type": "markdown",
   "id": "5776dca0-e03e-478b-8c2a-10518dc76cf5",
   "metadata": {},
   "source": [
    "## Exercise\n",
    "Ask ´bob´ to generate a dataset of students and exam grades. Ask it to write another notebook for plotting the grades between 1-5 in a box-plot. \n",
    "What was the average grade of the made-up students?"
   ]
  },
  {
   "cell_type": "code",
   "execution_count": null,
   "id": "e5847086-5748-40bc-acac-64d653952da9",
   "metadata": {},
   "outputs": [],
   "source": []
  }
 ],
 "metadata": {
  "kernelspec": {
   "display_name": "Python 3 (ipykernel)",
   "language": "python",
   "name": "python3"
  },
  "language_info": {
   "codemirror_mode": {
    "name": "ipython",
    "version": 3
   },
   "file_extension": ".py",
   "mimetype": "text/x-python",
   "name": "python",
   "nbconvert_exporter": "python",
   "pygments_lexer": "ipython3",
   "version": "3.12.3"
  }
 },
 "nbformat": 4,
 "nbformat_minor": 5
}
